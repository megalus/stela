{
 "cells": [
  {
   "cell_type": "code",
   "execution_count": 4,
   "metadata": {
    "pycharm": {
     "is_executing": true
    }
   },
   "outputs": [
    {
     "name": "stdout",
     "output_type": "stream",
     "text": [
      "env: STELA_ENV=remote\n",
      "env: STELA_SHOW_LOGS=False\n",
      "Current Environment: remote\n"
     ]
    }
   ],
   "source": [
    "from stela.utils import read_env\n",
    "\n",
    "### You can change Stela behavior here\n",
    "%set_env STELA_ENV=remote\n",
    "%set_env STELA_SHOW_LOGS=False\n",
    "\n",
    "### And use the `read_env` helper to reload environment variables\n",
    "env = read_env()\n",
    "\n",
    "print(f\"Current Environment: {env.current_environment}\")"
   ]
  },
  {
   "cell_type": "code",
   "execution_count": 2,
   "metadata": {},
   "outputs": [
    {
     "name": "stdout",
     "output_type": "stream",
     "text": [
      "My secret is: remote secret\n"
     ]
    }
   ],
   "source": [
    "print(f\"My secret is: {env.MY_SECRET}\")"
   ]
  }
 ],
 "metadata": {
  "kernelspec": {
   "display_name": "Python 3 (ipykernel)",
   "language": "python",
   "name": "python3"
  },
  "language_info": {
   "codemirror_mode": {
    "name": "ipython",
    "version": 3
   },
   "file_extension": ".py",
   "mimetype": "text/x-python",
   "name": "python",
   "nbconvert_exporter": "python",
   "pygments_lexer": "ipython3",
   "version": "3.9.15"
  }
 },
 "nbformat": 4,
 "nbformat_minor": 1
}
